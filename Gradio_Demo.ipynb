{
  "cells": [
    {
      "cell_type": "code",
      "execution_count": null,
      "metadata": {
        "colab": {
          "base_uri": "https://localhost:8080/"
        },
        "id": "cxoJ0Q3cviSj",
        "outputId": "0d2918e7-c174-4f65-86cf-98fa6c63dc98"
      },
      "outputs": [
        {
          "name": "stdout",
          "output_type": "stream",
          "text": [
            "Collecting gradio\n",
            "  Downloading gradio-4.19.0-py3-none-any.whl (16.9 MB)\n",
            "\u001b[2K     \u001b[90m━━━━━━━━━━━━━━━━━━━━━━━━━━━━━━━━━━━━━━━━\u001b[0m \u001b[32m16.9/16.9 MB\u001b[0m \u001b[31m36.5 MB/s\u001b[0m eta \u001b[36m0:00:00\u001b[0m\n",
            "\u001b[?25hCollecting aiofiles<24.0,>=22.0 (from gradio)\n",
            "  Downloading aiofiles-23.2.1-py3-none-any.whl (15 kB)\n",
            "Requirement already satisfied: altair<6.0,>=4.2.0 in /usr/local/lib/python3.10/dist-packages (from gradio) (4.2.2)\n",
            "Collecting fastapi (from gradio)\n",
            "  Downloading fastapi-0.109.2-py3-none-any.whl (92 kB)\n",
            "\u001b[2K     \u001b[90m━━━━━━━━━━━━━━━━━━━━━━━━━━━━━━━━━━━━━━━━\u001b[0m \u001b[32m92.1/92.1 kB\u001b[0m \u001b[31m5.8 MB/s\u001b[0m eta \u001b[36m0:00:00\u001b[0m\n",
            "\u001b[?25hCollecting ffmpy (from gradio)\n",
            "  Downloading ffmpy-0.3.2.tar.gz (5.5 kB)\n",
            "  Preparing metadata (setup.py) ... \u001b[?25l\u001b[?25hdone\n",
            "Collecting gradio-client==0.10.0 (from gradio)\n",
            "  Downloading gradio_client-0.10.0-py3-none-any.whl (307 kB)\n",
            "\u001b[2K     \u001b[90m━━━━━━━━━━━━━━━━━━━━━━━━━━━━━━━━━━━━━━━━\u001b[0m \u001b[32m307.7/307.7 kB\u001b[0m \u001b[31m29.4 MB/s\u001b[0m eta \u001b[36m0:00:00\u001b[0m\n",
            "\u001b[?25hCollecting httpx (from gradio)\n",
            "  Downloading httpx-0.26.0-py3-none-any.whl (75 kB)\n",
            "\u001b[2K     \u001b[90m━━━━━━━━━━━━━━━━━━━━━━━━━━━━━━━━━━━━━━━━\u001b[0m \u001b[32m75.9/75.9 kB\u001b[0m \u001b[31m9.1 MB/s\u001b[0m eta \u001b[36m0:00:00\u001b[0m\n",
            "\u001b[?25hRequirement already satisfied: huggingface-hub>=0.19.3 in /usr/local/lib/python3.10/dist-packages (from gradio) (0.20.3)\n",
            "Requirement already satisfied: importlib-resources<7.0,>=1.3 in /usr/local/lib/python3.10/dist-packages (from gradio) (6.1.1)\n",
            "Requirement already satisfied: jinja2<4.0 in /usr/local/lib/python3.10/dist-packages (from gradio) (3.1.3)\n",
            "Requirement already satisfied: markupsafe~=2.0 in /usr/local/lib/python3.10/dist-packages (from gradio) (2.1.5)\n",
            "Requirement already satisfied: matplotlib~=3.0 in /usr/local/lib/python3.10/dist-packages (from gradio) (3.7.1)\n",
            "Requirement already satisfied: numpy~=1.0 in /usr/local/lib/python3.10/dist-packages (from gradio) (1.25.2)\n",
            "Collecting orjson~=3.0 (from gradio)\n",
            "  Downloading orjson-3.9.14-cp310-cp310-manylinux_2_17_x86_64.manylinux2014_x86_64.whl (138 kB)\n",
            "\u001b[2K     \u001b[90m━━━━━━━━━━━━━━━━━━━━━━━━━━━━━━━━━━━━━━━━\u001b[0m \u001b[32m139.0/139.0 kB\u001b[0m \u001b[31m16.2 MB/s\u001b[0m eta \u001b[36m0:00:00\u001b[0m\n",
            "\u001b[?25hRequirement already satisfied: packaging in /usr/local/lib/python3.10/dist-packages (from gradio) (23.2)\n",
            "Requirement already satisfied: pandas<3.0,>=1.0 in /usr/local/lib/python3.10/dist-packages (from gradio) (1.5.3)\n",
            "Requirement already satisfied: pillow<11.0,>=8.0 in /usr/local/lib/python3.10/dist-packages (from gradio) (9.4.0)\n",
            "Requirement already satisfied: pydantic>=2.0 in /usr/local/lib/python3.10/dist-packages (from gradio) (2.6.1)\n",
            "Collecting pydub (from gradio)\n",
            "  Downloading pydub-0.25.1-py2.py3-none-any.whl (32 kB)\n",
            "Collecting python-multipart (from gradio)\n",
            "  Downloading python_multipart-0.0.9-py3-none-any.whl (22 kB)\n",
            "Requirement already satisfied: pyyaml<7.0,>=5.0 in /usr/local/lib/python3.10/dist-packages (from gradio) (6.0.1)\n",
            "Collecting ruff>=0.1.7 (from gradio)\n",
            "  Downloading ruff-0.2.1-py3-none-manylinux_2_17_x86_64.manylinux2014_x86_64.whl (7.6 MB)\n",
            "\u001b[2K     \u001b[90m━━━━━━━━━━━━━━━━━━━━━━━━━━━━━━━━━━━━━━━━\u001b[0m \u001b[32m7.6/7.6 MB\u001b[0m \u001b[31m62.8 MB/s\u001b[0m eta \u001b[36m0:00:00\u001b[0m\n",
            "\u001b[?25hCollecting semantic-version~=2.0 (from gradio)\n",
            "  Downloading semantic_version-2.10.0-py2.py3-none-any.whl (15 kB)\n",
            "Collecting tomlkit==0.12.0 (from gradio)\n",
            "  Downloading tomlkit-0.12.0-py3-none-any.whl (37 kB)\n",
            "Requirement already satisfied: typer[all]<1.0,>=0.9 in /usr/local/lib/python3.10/dist-packages (from gradio) (0.9.0)\n",
            "Requirement already satisfied: typing-extensions~=4.0 in /usr/local/lib/python3.10/dist-packages (from gradio) (4.9.0)\n",
            "Collecting uvicorn>=0.14.0 (from gradio)\n",
            "  Downloading uvicorn-0.27.1-py3-none-any.whl (60 kB)\n",
            "\u001b[2K     \u001b[90m━━━━━━━━━━━━━━━━━━━━━━━━━━━━━━━━━━━━━━━━\u001b[0m \u001b[32m60.8/60.8 kB\u001b[0m \u001b[31m7.2 MB/s\u001b[0m eta \u001b[36m0:00:00\u001b[0m\n",
            "\u001b[?25hRequirement already satisfied: fsspec in /usr/local/lib/python3.10/dist-packages (from gradio-client==0.10.0->gradio) (2023.6.0)\n",
            "Collecting websockets<12.0,>=10.0 (from gradio-client==0.10.0->gradio)\n",
            "  Downloading websockets-11.0.3-cp310-cp310-manylinux_2_5_x86_64.manylinux1_x86_64.manylinux_2_17_x86_64.manylinux2014_x86_64.whl (129 kB)\n",
            "\u001b[2K     \u001b[90m━━━━━━━━━━━━━━━━━━━━━━━━━━━━━━━━━━━━━━━━\u001b[0m \u001b[32m129.9/129.9 kB\u001b[0m \u001b[31m13.4 MB/s\u001b[0m eta \u001b[36m0:00:00\u001b[0m\n",
            "\u001b[?25hRequirement already satisfied: entrypoints in /usr/local/lib/python3.10/dist-packages (from altair<6.0,>=4.2.0->gradio) (0.4)\n",
            "Requirement already satisfied: jsonschema>=3.0 in /usr/local/lib/python3.10/dist-packages (from altair<6.0,>=4.2.0->gradio) (4.19.2)\n",
            "Requirement already satisfied: toolz in /usr/local/lib/python3.10/dist-packages (from altair<6.0,>=4.2.0->gradio) (0.12.1)\n",
            "Requirement already satisfied: filelock in /usr/local/lib/python3.10/dist-packages (from huggingface-hub>=0.19.3->gradio) (3.13.1)\n",
            "Requirement already satisfied: requests in /usr/local/lib/python3.10/dist-packages (from huggingface-hub>=0.19.3->gradio) (2.31.0)\n",
            "Requirement already satisfied: tqdm>=4.42.1 in /usr/local/lib/python3.10/dist-packages (from huggingface-hub>=0.19.3->gradio) (4.66.1)\n",
            "Requirement already satisfied: contourpy>=1.0.1 in /usr/local/lib/python3.10/dist-packages (from matplotlib~=3.0->gradio) (1.2.0)\n",
            "Requirement already satisfied: cycler>=0.10 in /usr/local/lib/python3.10/dist-packages (from matplotlib~=3.0->gradio) (0.12.1)\n",
            "Requirement already satisfied: fonttools>=4.22.0 in /usr/local/lib/python3.10/dist-packages (from matplotlib~=3.0->gradio) (4.48.1)\n",
            "Requirement already satisfied: kiwisolver>=1.0.1 in /usr/local/lib/python3.10/dist-packages (from matplotlib~=3.0->gradio) (1.4.5)\n",
            "Requirement already satisfied: pyparsing>=2.3.1 in /usr/local/lib/python3.10/dist-packages (from matplotlib~=3.0->gradio) (3.1.1)\n",
            "Requirement already satisfied: python-dateutil>=2.7 in /usr/local/lib/python3.10/dist-packages (from matplotlib~=3.0->gradio) (2.8.2)\n",
            "Requirement already satisfied: pytz>=2020.1 in /usr/local/lib/python3.10/dist-packages (from pandas<3.0,>=1.0->gradio) (2023.4)\n",
            "Requirement already satisfied: annotated-types>=0.4.0 in /usr/local/lib/python3.10/dist-packages (from pydantic>=2.0->gradio) (0.6.0)\n",
            "Requirement already satisfied: pydantic-core==2.16.2 in /usr/local/lib/python3.10/dist-packages (from pydantic>=2.0->gradio) (2.16.2)\n",
            "Requirement already satisfied: click<9.0.0,>=7.1.1 in /usr/local/lib/python3.10/dist-packages (from typer[all]<1.0,>=0.9->gradio) (8.1.7)\n",
            "Collecting colorama<0.5.0,>=0.4.3 (from typer[all]<1.0,>=0.9->gradio)\n",
            "  Downloading colorama-0.4.6-py2.py3-none-any.whl (25 kB)\n",
            "Collecting shellingham<2.0.0,>=1.3.0 (from typer[all]<1.0,>=0.9->gradio)\n",
            "  Downloading shellingham-1.5.4-py2.py3-none-any.whl (9.8 kB)\n",
            "Requirement already satisfied: rich<14.0.0,>=10.11.0 in /usr/local/lib/python3.10/dist-packages (from typer[all]<1.0,>=0.9->gradio) (13.7.0)\n",
            "Collecting h11>=0.8 (from uvicorn>=0.14.0->gradio)\n",
            "  Downloading h11-0.14.0-py3-none-any.whl (58 kB)\n",
            "\u001b[2K     \u001b[90m━━━━━━━━━━━━━━━━━━━━━━━━━━━━━━━━━━━━━━━━\u001b[0m \u001b[32m58.3/58.3 kB\u001b[0m \u001b[31m6.3 MB/s\u001b[0m eta \u001b[36m0:00:00\u001b[0m\n",
            "\u001b[?25hCollecting starlette<0.37.0,>=0.36.3 (from fastapi->gradio)\n",
            "  Downloading starlette-0.36.3-py3-none-any.whl (71 kB)\n",
            "\u001b[2K     \u001b[90m━━━━━━━━━━━━━━━━━━━━━━━━━━━━━━━━━━━━━━━━\u001b[0m \u001b[32m71.5/71.5 kB\u001b[0m \u001b[31m10.2 MB/s\u001b[0m eta \u001b[36m0:00:00\u001b[0m\n",
            "\u001b[?25hRequirement already satisfied: anyio in /usr/local/lib/python3.10/dist-packages (from httpx->gradio) (3.7.1)\n",
            "Requirement already satisfied: certifi in /usr/local/lib/python3.10/dist-packages (from httpx->gradio) (2024.2.2)\n",
            "Collecting httpcore==1.* (from httpx->gradio)\n",
            "  Downloading httpcore-1.0.3-py3-none-any.whl (77 kB)\n",
            "\u001b[2K     \u001b[90m━━━━━━━━━━━━━━━━━━━━━━━━━━━━━━━━━━━━━━━━\u001b[0m \u001b[32m77.0/77.0 kB\u001b[0m \u001b[31m12.6 MB/s\u001b[0m eta \u001b[36m0:00:00\u001b[0m\n",
            "\u001b[?25hRequirement already satisfied: idna in /usr/local/lib/python3.10/dist-packages (from httpx->gradio) (3.6)\n",
            "Requirement already satisfied: sniffio in /usr/local/lib/python3.10/dist-packages (from httpx->gradio) (1.3.0)\n",
            "Requirement already satisfied: attrs>=22.2.0 in /usr/local/lib/python3.10/dist-packages (from jsonschema>=3.0->altair<6.0,>=4.2.0->gradio) (23.2.0)\n",
            "Requirement already satisfied: jsonschema-specifications>=2023.03.6 in /usr/local/lib/python3.10/dist-packages (from jsonschema>=3.0->altair<6.0,>=4.2.0->gradio) (2023.12.1)\n",
            "Requirement already satisfied: referencing>=0.28.4 in /usr/local/lib/python3.10/dist-packages (from jsonschema>=3.0->altair<6.0,>=4.2.0->gradio) (0.33.0)\n",
            "Requirement already satisfied: rpds-py>=0.7.1 in /usr/local/lib/python3.10/dist-packages (from jsonschema>=3.0->altair<6.0,>=4.2.0->gradio) (0.17.1)\n",
            "Requirement already satisfied: six>=1.5 in /usr/local/lib/python3.10/dist-packages (from python-dateutil>=2.7->matplotlib~=3.0->gradio) (1.16.0)\n",
            "Requirement already satisfied: markdown-it-py>=2.2.0 in /usr/local/lib/python3.10/dist-packages (from rich<14.0.0,>=10.11.0->typer[all]<1.0,>=0.9->gradio) (3.0.0)\n",
            "Requirement already satisfied: pygments<3.0.0,>=2.13.0 in /usr/local/lib/python3.10/dist-packages (from rich<14.0.0,>=10.11.0->typer[all]<1.0,>=0.9->gradio) (2.16.1)\n",
            "Requirement already satisfied: exceptiongroup in /usr/local/lib/python3.10/dist-packages (from anyio->httpx->gradio) (1.2.0)\n",
            "Requirement already satisfied: charset-normalizer<4,>=2 in /usr/local/lib/python3.10/dist-packages (from requests->huggingface-hub>=0.19.3->gradio) (3.3.2)\n",
            "Requirement already satisfied: urllib3<3,>=1.21.1 in /usr/local/lib/python3.10/dist-packages (from requests->huggingface-hub>=0.19.3->gradio) (2.0.7)\n",
            "Requirement already satisfied: mdurl~=0.1 in /usr/local/lib/python3.10/dist-packages (from markdown-it-py>=2.2.0->rich<14.0.0,>=10.11.0->typer[all]<1.0,>=0.9->gradio) (0.1.2)\n",
            "Building wheels for collected packages: ffmpy\n",
            "  Building wheel for ffmpy (setup.py) ... \u001b[?25l\u001b[?25hdone\n",
            "  Created wheel for ffmpy: filename=ffmpy-0.3.2-py3-none-any.whl size=5584 sha256=bcde91a4be71bfed92a6f059bb0274f4e673c8647ed5ae3280dbb74ff5fbf4c0\n",
            "  Stored in directory: /root/.cache/pip/wheels/bd/65/9a/671fc6dcde07d4418df0c592f8df512b26d7a0029c2a23dd81\n",
            "Successfully built ffmpy\n",
            "Installing collected packages: pydub, ffmpy, websockets, tomlkit, shellingham, semantic-version, ruff, python-multipart, orjson, h11, colorama, aiofiles, uvicorn, starlette, httpcore, httpx, fastapi, gradio-client, gradio\n",
            "\u001b[31mERROR: pip's dependency resolver does not currently take into account all the packages that are installed. This behaviour is the source of the following dependency conflicts.\n",
            "lida 0.0.10 requires kaleido, which is not installed.\u001b[0m\u001b[31m\n",
            "\u001b[0mSuccessfully installed aiofiles-23.2.1 colorama-0.4.6 fastapi-0.109.2 ffmpy-0.3.2 gradio-4.19.0 gradio-client-0.10.0 h11-0.14.0 httpcore-1.0.3 httpx-0.26.0 orjson-3.9.14 pydub-0.25.1 python-multipart-0.0.9 ruff-0.2.1 semantic-version-2.10.0 shellingham-1.5.4 starlette-0.36.3 tomlkit-0.12.0 uvicorn-0.27.1 websockets-11.0.3\n"
          ]
        }
      ],
      "source": [
        "!pip install gradio"
      ]
    },
    {
      "cell_type": "markdown",
      "metadata": {
        "id": "YjyFBCvwk2M2"
      },
      "source": [
        "IMPORT THE LIBRARIES"
      ]
    },
    {
      "cell_type": "code",
      "execution_count": null,
      "metadata": {
        "id": "Q7zIxE6rxSin"
      },
      "outputs": [],
      "source": [
        "import gradio as gr\n",
        "\n",
        "import pickle\n",
        "import numpy as np\n",
        "import matplotlib.pyplot as plt\n",
        "import tensorflow as tf\n",
        "from tensorflow.keras import models,layers\n",
        "import os\n",
        "import cv2\n",
        "import keras\n",
        "import numpy as np\n",
        "import os\n",
        "from sklearn.metrics import confusion_matrix\n",
        "import seaborn as sn; sn.set(font_scale=1.4)\n",
        "from sklearn.utils import shuffle\n",
        "import matplotlib.pyplot as plt\n",
        "import cv2\n",
        "import tensorflow as tf\n",
        "from tqdm import tqdm\n",
        "from PIL import Image\n",
        "import tensorflow as tf\n",
        "from matplotlib import pyplot as plt\n",
        "from sklearn.model_selection import train_test_split\n",
        "from random import randint"
      ]
    },
    {
      "cell_type": "code",
      "execution_count": null,
      "metadata": {
        "colab": {
          "base_uri": "https://localhost:8080/"
        },
        "id": "KW9ZyQJpCAip",
        "outputId": "c4cd34a6-41a4-4f59-b36a-ada61c19fcc7"
      },
      "outputs": [
        {
          "name": "stdout",
          "output_type": "stream",
          "text": [
            "Mounted at /content/drive\n"
          ]
        }
      ],
      "source": [
        "from google.colab import drive\n",
        "drive.mount('/content/drive')"
      ]
    },
    {
      "cell_type": "code",
      "execution_count": null,
      "metadata": {
        "colab": {
          "base_uri": "https://localhost:8080/",
          "height": 35
        },
        "id": "veZSGJhVo9yB",
        "outputId": "1225be5b-decd-4aac-d105-3e8236323973"
      },
      "outputs": [
        {
          "data": {
            "application/vnd.google.colaboratory.intrinsic+json": {
              "type": "string"
            },
            "text/plain": [
              "'\\n1 0,0   0.1  0.2   0.3   0.4,0.9    0.025   0.035  0.04,1  0,\\n\"fertile,Not-fertile\",\"0,1,2,3,4--4is good--0 is bad\",\"healthy leaf , 3 disaese \",\"good , bad)\",HL   PM DM\\n'"
            ]
          },
          "execution_count": 4,
          "metadata": {},
          "output_type": "execute_result"
        }
      ],
      "source": [
        "#Declate Global variables:\n",
        "soil_val,water_val,yeild_val,Leaf_val,berry_val=0,0,0,0,0\n",
        "\n",
        "'''\n",
        "1 0,0   0.1  0.2   0.3   0.4,0.9    0.025   0.035  0.04,1  0,\n",
        "\"fertile,Not-fertile\",\"0,1,2,3,4--4is good--0 is bad\",\"healthy leaf , 3 disaese \",\"good , bad)\",HL   PM DM\n",
        "'''\n"
      ]
    },
    {
      "cell_type": "markdown",
      "metadata": {
        "id": "5ESVtxgAen6H"
      },
      "source": [
        "SOIL FERTILITY FUNCTION"
      ]
    },
    {
      "cell_type": "code",
      "execution_count": null,
      "metadata": {
        "id": "LlybB6uJefWh"
      },
      "outputs": [],
      "source": [
        "def soil_fertily_func(i1,i2,i3,i4,i5,i6,i7,i8,i9,i10,i12,i13,i14,i15,i16,i17,i18,i19,i20):\n",
        "  # Loading model to compare the results\n",
        "    l1=[i1,i2,i3,i4,i5,i6,i7,i8,i9,i10,i12,i13,i14,i15,i16,i17,i18,i19,i20]\n",
        "    if(None in l1):\n",
        "        a=\"Invalid input for Water\"\n",
        "        return a\n",
        "    model1 = pickle.load(open('/content/drive/MyDrive/Colab Notebooks/Pickled Models Grapes/Soil_Model.pkl','rb'))\n",
        "\n",
        "    test_data=[i1,i2,i3,i4,i5,i6,i7,i8,i9,i10,i12,i13,i14,i15,i16,i17,i18,i19,i20]\n",
        "    ar=np.array([test_data])\n",
        "\n",
        "    s = np.load('/content/drive/MyDrive/Colab Notebooks/Pickled Models Grapes/Soil_std.npy')\n",
        "    m = np.load('/content/drive/MyDrive/Colab Notebooks/Pickled Models Grapes/Soil_mean.npy')\n",
        "    std1=np.sqrt(s)\n",
        "    dt=(ar-m)/std1\n",
        "\n",
        "    res=model1.predict(dt)\n",
        "    if(res[0]=='Non-Fertile'):\n",
        "      soil_val=0\n",
        "      return 'The Soil is Non-Fertile'\n",
        "    else:\n",
        "      soil_val=1\n",
        "      return 'The Soil is Fertile'"
      ]
    },
    {
      "cell_type": "code",
      "execution_count": null,
      "metadata": {
        "colab": {
          "base_uri": "https://localhost:8080/",
          "height": 35
        },
        "id": "5B1Ao4MvlvNq",
        "outputId": "9be9fd86-cb3e-4207-ba56-1cae3367516b"
      },
      "outputs": [
        {
          "data": {
            "application/vnd.google.colaboratory.intrinsic+json": {
              "type": "string"
            },
            "text/plain": [
              "'Invalid input for Water'"
            ]
          },
          "execution_count": 59,
          "metadata": {},
          "output_type": "execute_result"
        }
      ],
      "source": [
        "soil_fertily_func(0,0,0,0,0,0,0,0,0,0,0,0,0,0,0,0,None,0,0)"
      ]
    },
    {
      "cell_type": "markdown",
      "metadata": {
        "id": "7f7rK0rMRmRU"
      },
      "source": [
        "WATER QUALITY FUNCTION"
      ]
    },
    {
      "cell_type": "code",
      "execution_count": null,
      "metadata": {
        "colab": {
          "base_uri": "https://localhost:8080/",
          "height": 53
        },
        "id": "UBwGiBP7Lu65",
        "outputId": "35fd6673-7236-4acf-c01d-27b9086cd4d4"
      },
      "outputs": [
        {
          "name": "stdout",
          "output_type": "stream",
          "text": [
            "[328, None, 43.5, 55.6, 7.12, 30.8, 5.54, 259.656, 26.244, 2.42, 575, 111.669617]\n"
          ]
        },
        {
          "data": {
            "application/vnd.google.colaboratory.intrinsic+json": {
              "type": "string"
            },
            "text/plain": [
              "'Invalid input for Water'"
            ]
          },
          "execution_count": 6,
          "metadata": {},
          "output_type": "execute_result"
        }
      ],
      "source": [
        "#code for Water prediction\n",
        "# Loading model to compare the results\n",
        "def water_quality_prediction(l):\n",
        "  print(l)\n",
        "  if(None in l):\n",
        "    a=\"Invalid input for Water\"\n",
        "    return a\n",
        "\n",
        "  model1 = pickle.load(open('/content/drive/MyDrive/Colab Notebooks/Pickled Models Grapes/Water_RFModel.pkl','rb'))\n",
        "  test_data=l#[328,48.7,43.5,55.6,7.12,30.8,5.54,259.656,26.244,2.42,575,111.669617]\n",
        "  ar=np.array([test_data])\n",
        "  s = np.load('/content/drive/MyDrive/Colab Notebooks/Pickled Models Grapes/Water_std.npy')\n",
        "  m = np.load('/content/drive/MyDrive/Colab Notebooks/Pickled Models Grapes/Water_mean.npy')\n",
        "  #(np.array([[6.5, 1.5, 2.5, 6.5]] - m)) / s   # z = (x - u) / s ---> Main formula\n",
        "  dt=(ar-m)/np.sqrt(s)\n",
        "  #print(dt)\n",
        "  val=model1.predict(dt)\n",
        "  val=val[0]\n",
        "  if(val==0):\n",
        "      water_val=0\n",
        "  elif(val==1):\n",
        "      water_val=0.1\n",
        "  elif(val==2):\n",
        "      water_val=0.2\n",
        "  elif(val==3):\n",
        "      water_val=0.3\n",
        "  else:\n",
        "      water_val=0.4\n",
        "\n",
        "\n",
        "  return val\n",
        "\n",
        "\n",
        "\n",
        "l=[328,None,43.5,55.6,7.12,30.8,5.54,259.656,26.244,2.42,575,111.669617]\n",
        "water_quality_prediction(l)\n"
      ]
    },
    {
      "cell_type": "markdown",
      "metadata": {
        "id": "Cv02okpSRq88"
      },
      "source": [
        "LEAF IMAGE DIESEASE FUNCTION"
      ]
    },
    {
      "cell_type": "code",
      "execution_count": null,
      "metadata": {
        "id": "kpN9Awn6RaEW"
      },
      "outputs": [],
      "source": [
        "\n",
        "from tensorflow.keras.models import model_from_json\n",
        "def leaf_image_diesease_prediction(img1):\n",
        "    print(\"this is  img\")\n",
        "    if img1 is None:\n",
        "      a=\"No image input!\"\n",
        "      return a\n",
        "    # load json and create model\n",
        "    json_file = open('/content/drive/MyDrive/Colab Notebooks/Pickled Models Grapes/ImageGrapesmodel.json', 'r')\n",
        "    loaded_model_json = json_file.read()\n",
        "    json_file.close()\n",
        "    loaded_model = model_from_json(loaded_model_json)\n",
        "    # load weights into new model\n",
        "    loaded_model.load_weights(\"/content/drive/MyDrive/Colab Notebooks/Pickled Models Grapes/ImageGrapesmodel.h5\")\n",
        "\n",
        "    label_pred=['Grape___Black_rot','Grape___Esca_(Black_Measles)','Grape___Leaf_blight_(Isariopsis_Leaf_Spot)','Grape___healthy']\n",
        "    #black rot--black esca\n",
        "    #healry-blight\n",
        "    #\n",
        "    #imgpath='/content/drive/MyDrive/Colab Notebooks/Grapes_Disease Detection/Grape___Leaf_blight_(Isariopsis_Leaf_Spot)/01d00d79-98e1-46c2-90a9-52dcaeb895d2___FAM_L.Blight 4610.JPG'\n",
        "    dim=(160,160)\n",
        "    img2=cv2.resize(img1, dim)\n",
        "    img3=img2.reshape(1, 160, 160, 3)\n",
        "    pred=label_pred[np.argmax(loaded_model.predict(img3))]\n",
        "    if(pred=='Grape___Black_rot'):\n",
        "      Leaf_val=0.025\n",
        "    elif(pred=='Grape___Esca_(Black_Measles)'):\n",
        "      Leaf_val=0.035\n",
        "    elif(pred=='Grape___Leaf_blight_(Isariopsis_Leaf_Spot)'):\n",
        "      Leaf_val=0.04\n",
        "    else:\n",
        "      Leaf_val=0.9\n",
        "\n",
        "    return pred\n"
      ]
    },
    {
      "cell_type": "markdown",
      "metadata": {
        "id": "U6vEJlH-kvlf"
      },
      "source": [
        "YEILD AND BERRY DIESEASE FUNCTION"
      ]
    },
    {
      "cell_type": "code",
      "execution_count": null,
      "metadata": {
        "id": "Wgo9jv3tnsDs"
      },
      "outputs": [],
      "source": [
        "# yeild bery diesesee prediction\n",
        "import pickle\n",
        "\n",
        "def yeild_and_berry_dieasese_prediction(temp,humidity,rainfall,lightIntensity,leafWetness):\n",
        "        l1=[temp,humidity,rainfall,lightIntensity,leafWetness]\n",
        "        if( None in l1):\n",
        "          a=\"Invalid input\"\n",
        "          return a\n",
        "\n",
        "        model1 = pickle.load(open('/content/drive/MyDrive/Colab Notebooks/Pickled Models Grapes/BerryDiesease_Model.pkl','rb'))\n",
        "\n",
        "        test_data=[temp,humidity,rainfall,lightIntensity,leafWetness]\n",
        "        ar=np.array([test_data])\n",
        "        s = np.load('/content/drive/MyDrive/Colab Notebooks/Pickled Models Grapes/BerryDiesease_std.npy')\n",
        "        m = np.load('/content/drive/MyDrive/Colab Notebooks/Pickled Models Grapes/BerryDiesease_mean.npy')\n",
        "        std1=np.sqrt(s)\n",
        "        dt=(ar-m)/std1\n",
        "\n",
        "        res1=model1.predict(dt)\n",
        "        res1=res1[0]\n",
        "        if(res1=='None'):\n",
        "          res1='No Berry Diesese Predicted As of now'\n",
        "          berry_val=0.9\n",
        "        elif(res1=='Powdery Mildew'):\n",
        "          berry_val=0.04\n",
        "        else:\n",
        "          berry_val=0.06\n",
        "\n",
        "        # ==================================================\n",
        "        # Yeild Quality prediction\n",
        "        # Loading model to compare the results\n",
        "\n",
        "        model2 = pickle.load(open('/content/drive/MyDrive/Colab Notebooks/Pickled Models Grapes/yeildquality_Model.pkl','rb'))\n",
        "\n",
        "\n",
        "        test_data=[temp,humidity,rainfall]\n",
        "        ar=np.array([test_data])\n",
        "        s = np.load('/content/drive/MyDrive/Colab Notebooks/Pickled Models Grapes/yeildquality_std.npy')\n",
        "        m = np.load('/content/drive/MyDrive/Colab Notebooks/Pickled Models Grapes/yeildquality_mean.npy')\n",
        "        std1=np.sqrt(s)\n",
        "        dt=(ar-m)/std1\n",
        "\n",
        "        res=model2.predict(dt)\n",
        "        if(res==0):\n",
        "           res2=\"Bad\"\n",
        "           yeild_val=0\n",
        "        else:\n",
        "           res2=\"Good\"\n",
        "           yeild_val=1\n",
        "        return res2,res1\n"
      ]
    },
    {
      "cell_type": "code",
      "execution_count": null,
      "metadata": {
        "colab": {
          "base_uri": "https://localhost:8080/"
        },
        "id": "bw--WW0TrSZW",
        "outputId": "00aa90bf-ba69-49f9-cf7b-2fc486deb456"
      },
      "outputs": [
        {
          "data": {
            "text/plain": [
              "('Bad', 'No Berry Diesese Predicted As of now')"
            ]
          },
          "execution_count": 9,
          "metadata": {},
          "output_type": "execute_result"
        }
      ],
      "source": [
        "yeild_and_berry_dieasese_prediction(0,0,0,0,0)"
      ]
    },
    {
      "cell_type": "markdown",
      "metadata": {
        "id": "9vvyIOTglG5M"
      },
      "source": [
        "FINAL COMBINATION OF ALL THE PARAMETERS FUNCTION"
      ]
    },
    {
      "cell_type": "code",
      "execution_count": null,
      "metadata": {
        "id": "hYg3LrBSlNDT"
      },
      "outputs": [],
      "source": [
        "def final_conclusion_func(soil_val,water_val,Leaf_val,yeild_val,berry_val):\n",
        "  model1 = pickle.load(open('/content/drive/MyDrive/Colab Notebooks/Pickled Models Grapes/FinalConclusion_Model.pkl','rb'))\n",
        "  test_data=[soil_val,water_val,yeild_val,Leaf_val,berry_val]\n",
        "  print(test_data)\n",
        "  ar=np.array([test_data])\n",
        "  s = np.load('/content/drive/MyDrive/Colab Notebooks/Pickled Models Grapes/FinalConclusion_std.npy')\n",
        "  m = np.load('/content/drive/MyDrive/Colab Notebooks/Pickled Models Grapes/FinalConclusion_mean.npy')\n",
        "  print(s,m)\n",
        "  std1=np.sqrt(s)\n",
        "  dt=(ar-m)/std1\n",
        "  pred=model1.predict(dt)\n",
        "  pred=pred[0]\n",
        "  return pred\n"
      ]
    },
    {
      "cell_type": "code",
      "execution_count": null,
      "metadata": {
        "id": "Ui-2vQ1K8UzK"
      },
      "outputs": [],
      "source": [
        "# s = np.load('/content/drive/MyDrive/Colab Notebooks/Pickled Models Grapes/FinalConclusion_std.npy')\n",
        "# m = np.load('/content/drive/MyDrive/Colab Notebooks/Pickled Models Grapes/FinalConclusion_mean.npy')\n",
        "# print(s)\n",
        "# print(m)"
      ]
    },
    {
      "cell_type": "markdown",
      "metadata": {
        "id": "JHsz5KpAk7dk"
      },
      "source": [
        "MAIN PREPROCESSING FUNCTION"
      ]
    },
    {
      "cell_type": "code",
      "execution_count": null,
      "metadata": {
        "id": "T_ngv_UDOknQ"
      },
      "outputs": [],
      "source": [
        "def main_function(text1,text2,text3,text4,text5,text6,text7,text8,text9,text10,text11,text12,img1,i1,i2,i3,i4,i5,i6,i7,i8,i9,i10,i12,i13,i14,i15,i16,i17,i18,i19,i20,temp,humidity,rainfall,lightIntensity,leafWetness):\n",
        "    li=[text1,text2,text3,text4,text5,text6,text7,text8,text9,text10,text11,text12]\n",
        "    if( None in li):\n",
        "      a='Invalid input'\n",
        "      return a,a,a,a,a,a\n",
        "    wqi_val=water_qual=water_quality_prediction(li)\n",
        "    leaf_image_diesease_pred=leaf_image_diesease_prediction(img1)\n",
        "    soil_pred=soil_fertily_func(i1,i2,i3,i4,i5,i6,i7,i8,i9,i10,i12,i13,i14,i15,i16,i17,i18,i19,i20)\n",
        "    yeild_pred,berry_dieasese_pred=yeild_and_berry_dieasese_prediction(temp,humidity,rainfall,lightIntensity,leafWetness)\n",
        "    final_conclusion_pred=final_conclusion_func(soil_val,water_val,Leaf_val,yeild_val,berry_val)\n",
        "    print(leaf_image_diesease_pred)\n",
        "    if(wqi_val==4):\n",
        "      wqi_val_conclusion=\"Water quality index is 4--Best\"\n",
        "    if(wqi_val==3):\n",
        "      wqi_val_conclusion= \"Water quality index is 3--Good\"\n",
        "    if(wqi_val==2):\n",
        "      wqi_val_conclusion= \"Water quality index is 2--Average\"\n",
        "    if(wqi_val==1):\n",
        "      wqi_val_conclusion= \"Water quality index is 1--Very Poor\"\n",
        "    else:\n",
        "      wqi_val_conclusion= \"Water quality index is 0--Extreme Poor\"\n",
        "    return soil_pred,wqi_val_conclusion,leaf_image_diesease_pred,yeild_pred,berry_dieasese_pred,final_conclusion_pred\n"
      ]
    },
    {
      "cell_type": "code",
      "execution_count": null,
      "metadata": {
        "id": "dzF_CXkNGljs"
      },
      "outputs": [],
      "source": [
        "def reset_fn(text1,text2,text3,text4,text5,text6,text7,text8,text9,text10,text11,text12,\n",
        "                                img1,\n",
        "                                i1,i2,i3,i4,i5,i6,i7,i8,i9,i10,i12,i13,i14,i15,i16,i17,i18,i19,i20,\n",
        "                                        temp,humidity,rainfall,lightIntensity,leafWetness,output1,output2,output3,output4,output5,output6):\n",
        "   text1,text2,text3,text4,text5,text6,text7,text8,text9,text10,text11,text12,=0,0,0,0,0,0,0,0,0,0,0,0\n",
        "   i1,i2,i3,i4,i5,i6,i7,i8,i9,i10,i12,i13,i14,i15,i16,i17,i18,i19,i20,temp,humidity,rainfall,lightIntensity,leafWetness=0,0,0,0,0,0,0,0,0,0,0,0,0,0,0,0,0,0,0,0,0,0,0,0\n",
        "   img1,output1,output2,output3,output4,output5,output6=None,None,None,None,None,None,None\n",
        "   return text1,text2,text3,text4,text5,text6,text7,text8,text9,text10,text11,text12,img1,i1,i2,i3,i4,i5,i6,i7,i8,i9,i10,i12,i13,i14,i15,i16,i17,i18,i19,i20,temp,humidity,rainfall,lightIntensity,leafWetness,output1,output2,output3,output4,output5,output6\n",
        "\n",
        "\n"
      ]
    },
    {
      "cell_type": "markdown",
      "metadata": {
        "id": "m6xfYylWk_O9"
      },
      "source": [
        "USER INTERFACE CODE"
      ]
    },
    {
      "cell_type": "code",
      "execution_count": null,
      "metadata": {
        "colab": {
          "background_save": true,
          "base_uri": "https://localhost:8080/",
          "height": 764
        },
        "id": "tae5uPODydg9",
        "outputId": "251d7eea-abc7-4425-9c02-669497dbfc7d"
      },
      "outputs": [
        {
          "name": "stdout",
          "output_type": "stream",
          "text": [
            "Colab notebook detected. This cell will run indefinitely so that you can see errors and logs. To turn off, set debug=False in launch().\n",
            "Running on public URL: https://982fd26ee0df61c073.gradio.live\n",
            "\n",
            "This share link expires in 72 hours. For free permanent hosting and GPU upgrades, run `gradio deploy` from Terminal to deploy to Spaces (https://huggingface.co/spaces)\n"
          ]
        },
        {
          "data": {
            "text/html": [
              "<div><iframe src=\"https://982fd26ee0df61c073.gradio.live\" width=\"100%\" height=\"500\" allow=\"autoplay; camera; microphone; clipboard-read; clipboard-write;\" frameborder=\"0\" allowfullscreen></iframe></div>"
            ],
            "text/plain": [
              "<IPython.core.display.HTML object>"
            ]
          },
          "metadata": {},
          "output_type": "display_data"
        },
        {
          "name": "stdout",
          "output_type": "stream",
          "text": [
            "[0, 0, 0, 0, 0, 0, 0, 0, 0, 0, 0, 0]\n",
            "this is  img\n",
            "[0, 0, 0, 0, 0]\n",
            "[0.25       0.02       0.1408625  0.25       0.16062222] [0.5        0.2        0.25       0.5        0.33333333]\n",
            "No image input!\n",
            "[0, 0, 0, 0, 0, 0, 0, 0, 0, 0, 0, 0]\n",
            "this is  img\n",
            "[0, 0, 0, 0, 0]\n",
            "[0.25       0.02       0.1408625  0.25       0.16062222] [0.5        0.2        0.25       0.5        0.33333333]\n",
            "No image input!\n"
          ]
        }
      ],
      "source": [
        "\n",
        "with gr.Blocks(theme=gr.themes.Soft(),css=\".gradio-container {background: #e0e7ff}\" ) as demo:\n",
        "    m1 =  gr.Markdown(\n",
        "    \"\"\"\n",
        "    # FOR SOIL ANALYSIS,PLEASE ENTER FOLLOWING PARAMETERS:\n",
        "\n",
        "    \"\"\")\n",
        "    with gr.Row():\n",
        "      i1=gr.Number(label='pH')\n",
        "      i2=gr.Number(label='EC')\n",
        "      i3=gr.Number(label='CaCo3')\n",
        "      i4=gr.Number(label='OC')\n",
        "      i5=gr.Number(label='N')\n",
        "      i6=gr.Number(label='NH4-N')\n",
        "      i7=gr.Number(label='P')\n",
        "      i8=gr.Number(label='K')\n",
        "      i9=gr.Number(label='Ca')\n",
        "      i10=gr.Number(label='Mg')\n",
        "      i12=gr.Number(label='S')\n",
        "      i13=gr.Number(label='Fe')\n",
        "      i14=gr.Number(label='Mn')\n",
        "      i15=gr.Number(label='Zn')\n",
        "      i16=gr.Number(label='Cu')\n",
        "      i17=gr.Number(label='Na')\n",
        "      i18=gr.Number(label='B')\n",
        "      i19=gr.Number(label='HCO3')\n",
        "      i20=gr.Number(label='Cl')\n",
        "\n",
        "    m2=gr.Markdown(\n",
        "    \"\"\"\n",
        "    # FOR WATER ANALYSIS,PLEASE ENTER FOLLOWING PARAMETERS:\n",
        "\n",
        "    \"\"\")\n",
        "    with gr.Row():\n",
        "\n",
        "            text1 =  gr.Number(label='TDS')\n",
        "            text2 = gr.Number(label='SO4')\n",
        "            text3 =  gr.Number(label='Cl')\n",
        "            text4 =  gr.Number(label='Ca')\n",
        "            text5 =  gr.Number(label='PH_FLD')\n",
        "            text6 =  gr.Number(label='Na')\n",
        "            text7 =  gr.Number(label='BOD3-27')\n",
        "            text8 =  gr.Number(label='HCO3')\n",
        "            text9 =  gr.Number(label='Mg')\n",
        "            text10 =  gr.Number(label='K')\n",
        "            text11=  gr.Number(label='EC_GEN')\n",
        "            text12=  gr.Number(label='pH_GEN')\n",
        "\n",
        "    m3=gr.Markdown(\n",
        "    \"\"\"\n",
        "    # FOR LEAF DISEASE ANALYSIS,PLEASE UPLOAD IMAGE:\n",
        "\n",
        "    \"\"\")\n",
        "    img1 = gr.Image()\n",
        "    m3=gr.Markdown(\n",
        "    \"\"\"\n",
        "    # FOR YEILD QUALITY AND BERRY DISEASE PREDICTION:\n",
        "\n",
        "    \"\"\")\n",
        "    with gr.Row():\n",
        "\n",
        "            temp =  gr.Number(label='Temprature')\n",
        "            humidity = gr.Number(label='Humidity')\n",
        "            rainfall =  gr.Number(label='Rainfall')\n",
        "            lightIntensity=gr.Number(label='Light Intensity')\n",
        "            leafWetness=gr.Number(label='Leaf Wetness')\n",
        "    with gr.Row():\n",
        "      btn = gr.Button(\"Go\")\n",
        "      btn1=gr.Button(\"Reset to 0\")\n",
        "    with gr.Column():\n",
        "\n",
        "     output1 = gr.Textbox(label=\"Conclusion from SOIL Analysis...🌱\")\n",
        "     output2 = gr.Textbox(label=\"Conclusion from WATER Analysis...🌊\")\n",
        "     output3 = gr.Textbox(label=\"Conclusion from LEAF Analysis...☘️\")\n",
        "     output4 = gr.Textbox(label=\"Conclusion from CLIMATE YEILD Analysis...☔️\")\n",
        "     output5 = gr.Textbox(label=\"Conclusion from CLIMATE BERRY Analysis..🍇\")\n",
        "     output6 = gr.Textbox(label=\"Final Comments 📜:\")\n",
        "\n",
        "    btn.click(fn=main_function, inputs=[text1,text2,text3,text4,text5,text6,text7,text8,text9,text10,text11,text12,\n",
        "                                img1,\n",
        "                                i1,i2,i3,i4,i5,i6,i7,i8,i9,i10,i12,i13,i14,i15,i16,i17,i18,i19,i20,\n",
        "                                        temp,humidity,rainfall,lightIntensity,leafWetness], outputs=[output1,output2,output3,output4,output5,output6], api_name=\"main_function\")\n",
        "    btn1.click(fn=reset_fn,inputs=[text1,text2,text3,text4,text5,text6,text7,text8,text9,text10,text11,text12,\n",
        "                                img1,\n",
        "                                i1,i2,i3,i4,i5,i6,i7,i8,i9,i10,i12,i13,i14,i15,i16,i17,i18,i19,i20,\n",
        "                                        temp,humidity,rainfall,lightIntensity,leafWetness,output1,output2,output3,output4,output5,output6],\n",
        "              outputs=[text1,text2,text3,text4,text5,text6,text7,text8,text9,text10,text11,text12,\n",
        "                                img1,\n",
        "                                i1,i2,i3,i4,i5,i6,i7,i8,i9,i10,i12,i13,i14,i15,i16,i17,i18,i19,i20,\n",
        "                                        temp,humidity,rainfall,lightIntensity,leafWetness,output1,output2,output3,output4,output5,output6],\n",
        "               api_name=\"main_function1\")\n",
        "    gr.ClearButton([output1,output2,output3,output4,output5,output6,text1,text2,text3,text4,text5,text6,text7,text8,text9,text10,text11,text12,img1,i1,i2,i3,i4,i5,i6,i7,i8,i9,i10,i12,i13,i14,i15,i16,i17,i18,i19,i20,temp,humidity,rainfall,lightIntensity,leafWetness])\n",
        "\n",
        "demo.launch(share=True,debug=True)"
      ]
    },
    {
      "cell_type": "code",
      "execution_count": null,
      "metadata": {
        "colab": {
          "base_uri": "https://localhost:8080/"
        },
        "id": "wk5Wv9-Vyxgc",
        "outputId": "ba7c2809-f055-4a8c-9b8d-7aec0404b2ff"
      },
      "outputs": [
        {
          "name": "stdout",
          "output_type": "stream",
          "text": [
            "[4]\n"
          ]
        }
      ],
      "source": []
    },
    {
      "cell_type": "code",
      "execution_count": null,
      "metadata": {
        "id": "FMTc4OSxx1dO"
      },
      "outputs": [],
      "source": [
        "def greet(a,Nitrogen,Sodium,PPT,e,N,Potassiam,chlorine,i,Grape_Image,k,Temprature,Humidity,Rainfall):\n",
        "    return \"Hello \"\n",
        "\n",
        "\n",
        "demo = gr.Interface(\n",
        "    fn=greet,\n",
        "     inputs=[\n",
        "    gr.Markdown(\n",
        "    \"\"\"\n",
        "    # FOR SOIL ANALYSIS,PLEASE ENTER FOLLOWING PARAMETERS:\n",
        "\n",
        "    \"\"\"),\n",
        "    gr.Textbox(placeholder=\"Enter Nitrogen Value..\"),\n",
        "    gr.Textbox(placeholder='Enter Sodium Value..'),\n",
        "    gr.Textbox(placeholder='Enter PPT Value..'),\n",
        "\n",
        "     gr.Markdown(\n",
        "    \"\"\"\n",
        "    # FOR WATER ANALYSIS,PLEASE ENTER FOLLOWING PARAMETERS:\n",
        "\n",
        "    \"\"\"),\n",
        "    gr.Textbox(placeholder='Enter Nitrogen Value..'),\n",
        "    gr.Textbox(placeholder='Enter Potassiam Value..'),\n",
        "    gr.Textbox(placeholder='Enter chlorine Value..'),\n",
        "\n",
        "\n",
        "     gr.Markdown(\n",
        "    \"\"\"\n",
        "    # FOR LEAF DIESEASE ANALYSIS,PLEASE ENTER FOLLOWING PARAMETERS:\n",
        "\n",
        "    \"\"\"),\n",
        "     gr.Image(height=500,width=500),\n",
        "     gr.Markdown(\n",
        "    \"\"\"\n",
        "    # FOR YEILD AND BERRY DIESEASE ANALYSIS,PLEASE ENTER FOLLOWING PARAMETERS:\n",
        "\n",
        "    \"\"\"),\n",
        "gr.Textbox(placeholder='Enter Temprature Value..'),\n",
        "    gr.Textbox(placeholder='Enter humidity Value..'),\n",
        "    gr.Textbox(placeholder='Enter Rainfall Value..')\n",
        "    ],\n",
        "\n",
        "    outputs=[\"text\"]\n",
        ")\n",
        "\n"
      ]
    },
    {
      "cell_type": "code",
      "execution_count": null,
      "metadata": {
        "colab": {
          "base_uri": "https://localhost:8080/"
        },
        "id": "KQziJ8wq5rKi",
        "outputId": "bfb06b5d-3615-4f74-8610-6c9b660874f6"
      },
      "outputs": [
        {
          "data": {
            "text/plain": [
              "markdown"
            ]
          },
          "execution_count": 10,
          "metadata": {},
          "output_type": "execute_result"
        }
      ],
      "source": [
        "gr.Markdown(\n",
        "    \"\"\"\n",
        "    # Hello World!\n",
        "    Start typing below to see the output.\n",
        "    \"\"\")"
      ]
    },
    {
      "cell_type": "code",
      "execution_count": null,
      "metadata": {
        "colab": {
          "base_uri": "https://localhost:8080/",
          "height": 651
        },
        "id": "sBKOnzuQx3fP",
        "outputId": "929a8b4b-e88b-4665-86d4-cdbeb043bb6d"
      },
      "outputs": [
        {
          "name": "stdout",
          "output_type": "stream",
          "text": [
            "Rerunning server... use `close()` to stop if you need to change `launch()` parameters.\n",
            "----\n",
            "Colab notebook detected. To show errors in colab notebook, set debug=True in launch()\n",
            "Note: opening Chrome Inspector may crash demo inside Colab notebooks.\n",
            "\n",
            "To create a public link, set `share=True` in `launch()`.\n"
          ]
        },
        {
          "data": {
            "application/javascript": [
              "(async (port, path, width, height, cache, element) => {\n",
              "                        if (!google.colab.kernel.accessAllowed && !cache) {\n",
              "                            return;\n",
              "                        }\n",
              "                        element.appendChild(document.createTextNode(''));\n",
              "                        const url = await google.colab.kernel.proxyPort(port, {cache});\n",
              "\n",
              "                        const external_link = document.createElement('div');\n",
              "                        external_link.innerHTML = `\n",
              "                            <div style=\"font-family: monospace; margin-bottom: 0.5rem\">\n",
              "                                Running on <a href=${new URL(path, url).toString()} target=\"_blank\">\n",
              "                                    https://localhost:${port}${path}\n",
              "                                </a>\n",
              "                            </div>\n",
              "                        `;\n",
              "                        element.appendChild(external_link);\n",
              "\n",
              "                        const iframe = document.createElement('iframe');\n",
              "                        iframe.src = new URL(path, url).toString();\n",
              "                        iframe.height = height;\n",
              "                        iframe.allow = \"autoplay; camera; microphone; clipboard-read; clipboard-write;\"\n",
              "                        iframe.width = width;\n",
              "                        iframe.style.border = 0;\n",
              "                        element.appendChild(iframe);\n",
              "                    })(7867, \"/\", \"100%\", 500, false, window.element)"
            ],
            "text/plain": [
              "<IPython.core.display.Javascript object>"
            ]
          },
          "metadata": {},
          "output_type": "display_data"
        },
        {
          "data": {
            "text/plain": []
          },
          "execution_count": 34,
          "metadata": {},
          "output_type": "execute_result"
        }
      ],
      "source": [
        "demo.launch(share=False)"
      ]
    },
    {
      "cell_type": "code",
      "execution_count": null,
      "metadata": {
        "colab": {
          "base_uri": "https://localhost:8080/",
          "height": 616
        },
        "id": "bITbJva_pgWY",
        "outputId": "6795d495-8625-4120-aba7-68f91f771e74"
      },
      "outputs": [
        {
          "name": "stdout",
          "output_type": "stream",
          "text": [
            "Colab notebook detected. To show errors in colab notebook, set debug=True in launch()\n",
            "Note: opening Chrome Inspector may crash demo inside Colab notebooks.\n",
            "\n",
            "To create a public link, set `share=True` in `launch()`.\n"
          ]
        },
        {
          "data": {
            "application/javascript": [
              "(async (port, path, width, height, cache, element) => {\n",
              "                        if (!google.colab.kernel.accessAllowed && !cache) {\n",
              "                            return;\n",
              "                        }\n",
              "                        element.appendChild(document.createTextNode(''));\n",
              "                        const url = await google.colab.kernel.proxyPort(port, {cache});\n",
              "\n",
              "                        const external_link = document.createElement('div');\n",
              "                        external_link.innerHTML = `\n",
              "                            <div style=\"font-family: monospace; margin-bottom: 0.5rem\">\n",
              "                                Running on <a href=${new URL(path, url).toString()} target=\"_blank\">\n",
              "                                    https://localhost:${port}${path}\n",
              "                                </a>\n",
              "                            </div>\n",
              "                        `;\n",
              "                        element.appendChild(external_link);\n",
              "\n",
              "                        const iframe = document.createElement('iframe');\n",
              "                        iframe.src = new URL(path, url).toString();\n",
              "                        iframe.height = height;\n",
              "                        iframe.allow = \"autoplay; camera; microphone; clipboard-read; clipboard-write;\"\n",
              "                        iframe.width = width;\n",
              "                        iframe.style.border = 0;\n",
              "                        element.appendChild(iframe);\n",
              "                    })(7860, \"/\", \"100%\", 500, false, window.element)"
            ],
            "text/plain": [
              "<IPython.core.display.Javascript object>"
            ]
          },
          "metadata": {},
          "output_type": "display_data"
        },
        {
          "data": {
            "text/plain": []
          },
          "execution_count": 4,
          "metadata": {},
          "output_type": "execute_result"
        }
      ],
      "source": [
        "with gr.Blocks() as demo:\n",
        "    chatbot = gr.Chatbot([(\"Hello\", \"How are you?\")])\n",
        "    with gr.Row():\n",
        "        textbox = gr.Textbox(scale=3, interactive=True)\n",
        "        gr.ClearButton([textbox, chatbot], scale=1)\n",
        "demo.launch(share=False)"
      ]
    },
    {
      "cell_type": "code",
      "execution_count": null,
      "metadata": {
        "id": "hVwPZ7YRtS_e"
      },
      "outputs": [],
      "source": []
    },
    {
      "cell_type": "code",
      "execution_count": null,
      "metadata": {
        "id": "bw5dVgQatTDm"
      },
      "outputs": [],
      "source": []
    }
  ],
  "metadata": {
    "colab": {
      "provenance": []
    },
    "kernelspec": {
      "display_name": "Python 3",
      "name": "python3"
    },
    "language_info": {
      "name": "python"
    }
  },
  "nbformat": 4,
  "nbformat_minor": 0
}